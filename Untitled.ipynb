{
 "cells": [
  {
   "cell_type": "code",
   "execution_count": 1,
   "id": "edb70aa7-3871-4a77-b91a-786fa6fa5ad6",
   "metadata": {},
   "outputs": [],
   "source": [
    "import pandas as pd"
   ]
  },
  {
   "cell_type": "code",
   "execution_count": 3,
   "id": "9659bc7e-40a4-48af-bfe2-d092c016abc1",
   "metadata": {},
   "outputs": [],
   "source": [
    "from selenium import webdriver\n",
    "from selenium.webdriver.common.by import By"
   ]
  },
  {
   "cell_type": "code",
   "execution_count": 65,
   "id": "b4234e6a-c0f7-49e9-beac-98bca50b8c96",
   "metadata": {},
   "outputs": [],
   "source": [
    "from selenium.webdriver.support.ui import Select"
   ]
  },
  {
   "cell_type": "code",
   "execution_count": 114,
   "id": "4776f907-8884-4013-aac9-900bbcc506c0",
   "metadata": {},
   "outputs": [],
   "source": [
    "from selenium.webdriver.support.ui import Select, WebDriverWait\n",
    "from selenium.webdriver.support import expected_conditions as EC"
   ]
  },
  {
   "cell_type": "code",
   "execution_count": 5,
   "id": "ddac9162-c8f0-4a79-8582-4e998a69cc44",
   "metadata": {},
   "outputs": [],
   "source": [
    "options = webdriver.ChromeOptions()\n",
    "options.add_argument('--headless')\n",
    "options.add_argument('--no-sandbox')\n",
    "options.add_argument('--disable-dev-shm-usage')"
   ]
  },
  {
   "cell_type": "code",
   "execution_count": 7,
   "id": "e7b0db4c-5623-4bb4-9d2b-dba26f0b4039",
   "metadata": {},
   "outputs": [],
   "source": [
    "browser = webdriver.Chrome(options=options)\n",
    "browser.get(\"https://www.mse.mk/mk/stats/symbolhistory/ADIN\")"
   ]
  },
  {
   "cell_type": "code",
   "execution_count": 27,
   "id": "e25a9ebe-0670-41a7-bed7-221c57ff4a0e",
   "metadata": {},
   "outputs": [],
   "source": [
    "options_tmp = browser.find_elements(By.CSS_SELECTOR,\"#Code > option\")"
   ]
  },
  {
   "cell_type": "code",
   "execution_count": 13,
   "id": "37715591-ae18-44ae-8519-933964732ee3",
   "metadata": {},
   "outputs": [
    {
     "name": "stdout",
     "output_type": "stream",
     "text": [
      "377\n"
     ]
    }
   ],
   "source": [
    "print(len(options))"
   ]
  },
  {
   "cell_type": "code",
   "execution_count": 15,
   "id": "c9722ee2-df4a-404b-b936-d103d6841fe5",
   "metadata": {},
   "outputs": [],
   "source": [
    "import numpy as np"
   ]
  },
  {
   "cell_type": "code",
   "execution_count": 49,
   "id": "c9671085-85ac-43b4-a113-8c756d6f53f9",
   "metadata": {},
   "outputs": [],
   "source": [
    "options = []\n",
    "for option in options_tmp:\n",
    "    if any(char.isdigit() for char in option.text):\n",
    "        continue\n",
    "    else:\n",
    "        options.append(option.text)"
   ]
  },
  {
   "cell_type": "code",
   "execution_count": 128,
   "id": "72d8b636-367f-4a31-b111-17ef76dd6d17",
   "metadata": {},
   "outputs": [
    {
     "name": "stdout",
     "output_type": "stream",
     "text": [
      "243\n"
     ]
    }
   ],
   "source": [
    "browser.get(\"https://www.mse.mk/mk/stats/symbolhistory/ALK\")\n",
    "# #resultsTable > tbody > tr:nth-child(1)\n",
    "btn =browser.find_element(By.CSS_SELECTOR,\"#report-filter-container > ul > li.container-end > input\")\n",
    "from_date = browser.find_element(By.CSS_SELECTOR,\"#FromDate\")\n",
    "to_date = browser.find_element(By.CSS_SELECTOR,\"#ToDate\")\n",
    "from_date.clear()\n",
    "from_date.send_keys('03.11.2014')\n",
    "to_date.clear()\n",
    "to_date.send_keys('02.11.2015')\n",
    "code = Select(browser.find_element(By.CSS_SELECTOR,\"#Code\"))\n",
    "code.select_by_value(\"ALK\")\n",
    "btn.click()\n",
    "WebDriverWait(browser, 20).until(EC.presence_of_element_located((By.CSS_SELECTOR, '#resultsTable > tbody > tr')))\n",
    "yr=browser.find_elements(By.CSS_SELECTOR,'#resultsTable > tbody > tr')\n",
    "print(len(yr))"
   ]
  },
  {
   "cell_type": "code",
   "execution_count": null,
   "id": "d3e82185-1e53-4ff7-85b9-4250daeaf140",
   "metadata": {},
   "outputs": [
    {
     "name": "stdout",
     "output_type": "stream",
     "text": [
      "row cells 9\n",
      "\n",
      "row cells 9\n",
      "\n",
      "row cells 9\n",
      "\n",
      "row cells 9\n",
      "\n",
      "row cells 9\n",
      "\n",
      "row cells 9\n",
      "\n",
      "row cells 9\n",
      "\n",
      "row cells 9\n",
      "\n",
      "row cells 9\n",
      "\n",
      "row cells 9\n",
      "\n",
      "row cells 9\n",
      "\n",
      "row cells 9\n",
      "\n",
      "row cells 9\n",
      "\n",
      "row cells 9\n",
      "\n",
      "row cells 9\n",
      "\n",
      "row cells 9\n",
      "\n",
      "row cells 9\n",
      "\n",
      "row cells 9\n",
      "\n",
      "row cells 9\n",
      "\n",
      "row cells 9\n",
      "\n",
      "row cells 9\n",
      "\n",
      "row cells 9\n",
      "\n",
      "row cells 9\n",
      "\n",
      "row cells 9\n",
      "\n",
      "row cells 9\n",
      "\n",
      "row cells 9\n",
      "\n",
      "row cells 9\n",
      "\n",
      "row cells 9\n",
      "\n",
      "row cells 9\n",
      "\n",
      "row cells 9\n",
      "\n",
      "row cells 9\n",
      "\n",
      "row cells 9\n",
      "\n",
      "row cells 9\n",
      "\n",
      "row cells 9\n",
      "\n",
      "row cells 9\n",
      "\n",
      "row cells 9\n",
      "\n",
      "row cells 9\n",
      "\n",
      "row cells 9\n",
      "\n",
      "row cells 9\n",
      "\n",
      "row cells 9\n",
      "\n",
      "row cells 9\n",
      "\n",
      "row cells 9\n",
      "\n",
      "row cells 9\n",
      "\n",
      "row cells 9\n",
      "\n",
      "row cells 9\n",
      "\n",
      "row cells 9\n",
      "\n",
      "row cells 9\n",
      "\n",
      "row cells 9\n",
      "\n",
      "row cells 9\n",
      "\n",
      "row cells 9\n",
      "\n",
      "row cells 9\n",
      "\n",
      "row cells 9\n",
      "\n",
      "row cells 9\n",
      "\n",
      "row cells 9\n",
      "\n",
      "row cells 9\n",
      "\n",
      "row cells 9\n",
      "\n",
      "row cells 9\n",
      "\n",
      "row cells 9\n",
      "\n",
      "row cells 9\n",
      "\n",
      "row cells 9\n",
      "\n",
      "row cells 9\n",
      "\n",
      "row cells 9\n",
      "\n",
      "row cells 9\n",
      "\n",
      "row cells 9\n",
      "\n",
      "row cells 9\n",
      "\n",
      "row cells 9\n",
      "\n",
      "row cells 9\n",
      "\n",
      "row cells 9\n",
      "\n",
      "row cells 9\n",
      "\n"
     ]
    }
   ],
   "source": [
    "base_url =\"https://www.mse.mk/mk/stats/symbolhistory/{}\"\n",
    "for opt in options:\n",
    "    url_opt = base_url.format(opt)\n",
    "    browser.get(url_opt)\n",
    "    year = 2014\n",
    "    mntDayFrom='03.11.'\n",
    "    mntDayTo = '02.11.'\n",
    "    final_table_for_option = []\n",
    "    for i in range(0,10):\n",
    "        code = Select(browser.find_element(By.CSS_SELECTOR,\"#Code\"))\n",
    "        btn =browser.find_element(By.CSS_SELECTOR,\"#report-filter-container > ul > li.container-end > input\")\n",
    "        from_date = browser.find_element(By.CSS_SELECTOR,\"#FromDate\")\n",
    "        to_date = browser.find_element(By.CSS_SELECTOR,\"#ToDate\")\n",
    "        from_date.clear()\n",
    "        from_date.send_keys(mntDayFrom + str(year))\n",
    "        to_date.clear()\n",
    "        to_date.send_keys(mntDayTo + str(year + 1))\n",
    "        code.select_by_value(opt)\n",
    "        btn.click()\n",
    "\n",
    "        WebDriverWait(browser, 7).until(EC.presence_of_element_located((By.CSS_SELECTOR, '#resultsTable > tbody > tr')))\n",
    "        \n",
    "        opt_table_rows = browser.find_elements(By.CSS_SELECTOR,'#resultsTable > tbody > tr')\n",
    "        WebDriverWait(browser, 5)\n",
    "        for row in opt_table_rows:\n",
    "            row_cells = row.find_elements(By.CSS_SELECTOR,\"td\")\n",
    "            row_cells_text = []\n",
    "            for cell in row_cells:\n",
    "                row_cells_text.append(cell.text)\n",
    "            print(\"row cells \"+str(len(row_cells)))\n",
    "            print(\"\")\n",
    "            date= row_cells[0].text\n",
    "            month= date[3:5]\n",
    "            year_str = date[6:]\n",
    "            # print(row.find_element(By.CSS_SELECTOR, \"td:nth-child(2)\").text)\n",
    "            dic ={\n",
    "                \"Date\": date,\n",
    "                \"Year\": year_str,\n",
    "                \"Month\": month,\n",
    "                \"Price for last transaction\": row_cells[1].text or None,\n",
    "                \"Maximum\": row_cells[2].text or None,\n",
    "                \"Minimum\": row_cells[3].text or None,\n",
    "                \"Average price\": row_cells[4].text or None,\n",
    "                \"%prom\": row_cells[5].text or None,\n",
    "                \"Quantity\": row_cells[6].text or None,\n",
    "                \"Traffic BEST mkd\": row_cells[7].text or None,\n",
    "                \"Total traffic\": row_cells[8].text or None,\n",
    "            }\n",
    "            final_table_for_option.append(dic)\n",
    "        print(\"final table \"+str(len(final_table_for_option)))\n",
    "        year+=1\n",
    "    df_i = pd.DataFrame(final_table_for_option)\n",
    "    df_i.to_csv(opt+\".csv\", encoding=\"utf-8-sig\", index=False)\n",
    "    "
   ]
  },
  {
   "cell_type": "code",
   "execution_count": null,
   "id": "251a2e4b-5176-447b-bd58-c52a3b660d6b",
   "metadata": {},
   "outputs": [],
   "source": []
  }
 ],
 "metadata": {
  "kernelspec": {
   "display_name": "Python 3 (ipykernel)",
   "language": "python",
   "name": "python3"
  },
  "language_info": {
   "codemirror_mode": {
    "name": "ipython",
    "version": 3
   },
   "file_extension": ".py",
   "mimetype": "text/x-python",
   "name": "python",
   "nbconvert_exporter": "python",
   "pygments_lexer": "ipython3",
   "version": "3.12.4"
  }
 },
 "nbformat": 4,
 "nbformat_minor": 5
}
