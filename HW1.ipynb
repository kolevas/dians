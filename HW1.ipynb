{
 "cells": [
  {
   "cell_type": "code",
   "execution_count": 1,
   "id": "edb70aa7-3871-4a77-b91a-786fa6fa5ad6",
   "metadata": {},
   "outputs": [],
   "source": [
    "import pandas as pd"
   ]
  },
  {
   "cell_type": "code",
   "execution_count": 3,
   "id": "65516fba-2b3d-4a2b-a978-ee3568979db9",
   "metadata": {},
   "outputs": [],
   "source": [
    "from selenium import webdriver\n",
    "from selenium.webdriver.common.by import By\n",
    "from selenium.webdriver.support.ui import Select\n",
    "from selenium.webdriver.support.ui import Select, WebDriverWait\n",
    "from selenium.webdriver.support import expected_conditions as EC\n",
    "options = webdriver.ChromeOptions()\n",
    "options.add_argument('--headless')\n",
    "options.add_argument('--no-sandbox')\n",
    "options.add_argument('--disable-dev-shm-usage')\n",
    "browser = webdriver.Chrome(options=options)"
   ]
  },
  {
   "cell_type": "code",
   "execution_count": 5,
   "id": "9659bc7e-40a4-48af-bfe2-d092c016abc1",
   "metadata": {},
   "outputs": [],
   "source": [
    "import selenium "
   ]
  },
  {
   "cell_type": "code",
   "execution_count": 7,
   "id": "b4234e6a-c0f7-49e9-beac-98bca50b8c96",
   "metadata": {},
   "outputs": [],
   "source": [
    "from selenium.webdriver.support.ui import Select"
   ]
  },
  {
   "cell_type": "code",
   "execution_count": 9,
   "id": "4776f907-8884-4013-aac9-900bbcc506c0",
   "metadata": {},
   "outputs": [],
   "source": [
    "from selenium.webdriver.support.ui import Select, WebDriverWait\n",
    "from selenium.webdriver.support import expected_conditions as EC"
   ]
  },
  {
   "cell_type": "code",
   "execution_count": 11,
   "id": "ddac9162-c8f0-4a79-8582-4e998a69cc44",
   "metadata": {},
   "outputs": [],
   "source": [
    "options = webdriver.ChromeOptions()\n",
    "options.add_argument('--headless')\n",
    "options.add_argument('--no-sandbox')\n",
    "options.add_argument('--disable-dev-shm-usage')"
   ]
  },
  {
   "cell_type": "code",
   "execution_count": 13,
   "id": "e7b0db4c-5623-4bb4-9d2b-dba26f0b4039",
   "metadata": {},
   "outputs": [],
   "source": [
    "browser = webdriver.Chrome(options=options)\n",
    "browser.get(\"https://www.mse.mk/mk/stats/symbolhistory/ADIN\")"
   ]
  },
  {
   "cell_type": "code",
   "execution_count": 15,
   "id": "e25a9ebe-0670-41a7-bed7-221c57ff4a0e",
   "metadata": {},
   "outputs": [],
   "source": [
    "options_tmp = browser.find_elements(By.CSS_SELECTOR,\"#Code > option\")"
   ]
  },
  {
   "cell_type": "code",
   "execution_count": 17,
   "id": "37715591-ae18-44ae-8519-933964732ee3",
   "metadata": {},
   "outputs": [
    {
     "name": "stdout",
     "output_type": "stream",
     "text": [
      "377\n"
     ]
    }
   ],
   "source": [
    "print(len(options_tmp))"
   ]
  },
  {
   "cell_type": "code",
   "execution_count": 19,
   "id": "c9722ee2-df4a-404b-b936-d103d6841fe5",
   "metadata": {},
   "outputs": [],
   "source": [
    "import time"
   ]
  },
  {
   "cell_type": "markdown",
   "id": "8cfca4c7-b3ee-4928-8643-2d0da4e20604",
   "metadata": {},
   "source": [
    "# BS4"
   ]
  },
  {
   "cell_type": "code",
   "execution_count": 22,
   "id": "363e3123-df1d-4937-ad9c-4ba049dc1174",
   "metadata": {},
   "outputs": [],
   "source": [
    "from bs4 import BeautifulSoup as bs\n",
    "import requests"
   ]
  },
  {
   "cell_type": "code",
   "execution_count": 48,
   "id": "73c7264a-ea73-4221-946e-3b03366a4eeb",
   "metadata": {},
   "outputs": [],
   "source": [
    "import numpy as np"
   ]
  },
  {
   "cell_type": "code",
   "execution_count": 275,
   "id": "b08bd64b-d615-46c2-9e81-48c223a57aa0",
   "metadata": {},
   "outputs": [],
   "source": [
    "import datetime"
   ]
  },
  {
   "cell_type": "code",
   "execution_count": 319,
   "id": "9f468f0d-7ea5-489e-94ca-ca7e48e7cb83",
   "metadata": {},
   "outputs": [],
   "source": [
    "import warnings"
   ]
  },
  {
   "cell_type": "code",
   "execution_count": 24,
   "id": "13ebf867-e3f3-43ff-b185-a69bf99a6b2b",
   "metadata": {},
   "outputs": [],
   "source": [
    "url = \"https://www.mse.mk/mk/stats/symbolhistory/ADIN\"\n",
    "response = requests.get(url)\n",
    "html_content = response.content \n",
    "soup = bs(html_content,'html.parser')"
   ]
  },
  {
   "cell_type": "code",
   "execution_count": 26,
   "id": "c4a54a32-5999-4f5e-8756-50285ad6059c",
   "metadata": {},
   "outputs": [],
   "source": [
    "options_tmp = soup.select(\"#Code > option\")\n",
    "options_list = []\n",
    "for option in options_tmp:\n",
    "    if any(char.isdigit() for char in option.text):\n",
    "        continue\n",
    "    else:\n",
    "        options_list.append(option.text)"
   ]
  },
  {
   "cell_type": "code",
   "execution_count": 249,
   "id": "b131da13-6ceb-443d-8d22-700f3f10814c",
   "metadata": {},
   "outputs": [],
   "source": [
    "timestamp_csv = pd.DataFrame(columns=['Code', 'Date'])\n",
    "timestamp_csv.to_csv(\"timestamps/timestamps.csv\", index=False)"
   ]
  },
  {
   "cell_type": "code",
   "execution_count": 372,
   "id": "44e0779c-f0c9-444d-a340-2bfae13999aa",
   "metadata": {},
   "outputs": [
    {
     "ename": "KeyboardInterrupt",
     "evalue": "",
     "output_type": "error",
     "traceback": [
      "\u001b[1;31m---------------------------------------------------------------------------\u001b[0m",
      "\u001b[1;31mKeyboardInterrupt\u001b[0m                         Traceback (most recent call last)",
      "Cell \u001b[1;32mIn[372], line 2\u001b[0m\n\u001b[0;32m      1\u001b[0m \u001b[38;5;28;01mif\u001b[39;00m(\u001b[38;5;28mlen\u001b[39m(timestamp_csv)\u001b[38;5;241m!=\u001b[39moptions_list):\n\u001b[1;32m----> 2\u001b[0m     first_search()\n\u001b[0;32m      3\u001b[0m \u001b[38;5;28;01melse\u001b[39;00m:\n\u001b[0;32m      4\u001b[0m     update_database()\n",
      "Cell \u001b[1;32mIn[370], line 24\u001b[0m, in \u001b[0;36mfirst_search\u001b[1;34m()\u001b[0m\n\u001b[0;32m     22\u001b[0m to_date\u001b[38;5;241m.\u001b[39msend_keys(mntDayTo \u001b[38;5;241m+\u001b[39m \u001b[38;5;28mstr\u001b[39m(year \u001b[38;5;241m+\u001b[39m \u001b[38;5;241m1\u001b[39m))\n\u001b[0;32m     23\u001b[0m code\u001b[38;5;241m.\u001b[39mselect_by_value(opt)\n\u001b[1;32m---> 24\u001b[0m btn\u001b[38;5;241m.\u001b[39mclick()\n\u001b[0;32m     26\u001b[0m resp \u001b[38;5;241m=\u001b[39m requests\u001b[38;5;241m.\u001b[39mget(url_opt)\n\u001b[0;32m     27\u001b[0m soup_i \u001b[38;5;241m=\u001b[39m bs(browser\u001b[38;5;241m.\u001b[39mpage_source,\u001b[38;5;124m\"\u001b[39m\u001b[38;5;124mhtml.parser\u001b[39m\u001b[38;5;124m\"\u001b[39m)      \n",
      "File \u001b[1;32mC:\\AnAconda3\\Lib\\site-packages\\selenium\\webdriver\\remote\\webelement.py:94\u001b[0m, in \u001b[0;36mWebElement.click\u001b[1;34m(self)\u001b[0m\n\u001b[0;32m     92\u001b[0m \u001b[38;5;28;01mdef\u001b[39;00m \u001b[38;5;21mclick\u001b[39m(\u001b[38;5;28mself\u001b[39m) \u001b[38;5;241m-\u001b[39m\u001b[38;5;241m>\u001b[39m \u001b[38;5;28;01mNone\u001b[39;00m:\n\u001b[0;32m     93\u001b[0m \u001b[38;5;250m    \u001b[39m\u001b[38;5;124;03m\"\"\"Clicks the element.\"\"\"\u001b[39;00m\n\u001b[1;32m---> 94\u001b[0m     \u001b[38;5;28mself\u001b[39m\u001b[38;5;241m.\u001b[39m_execute(Command\u001b[38;5;241m.\u001b[39mCLICK_ELEMENT)\n",
      "File \u001b[1;32mC:\\AnAconda3\\Lib\\site-packages\\selenium\\webdriver\\remote\\webelement.py:395\u001b[0m, in \u001b[0;36mWebElement._execute\u001b[1;34m(self, command, params)\u001b[0m\n\u001b[0;32m    393\u001b[0m     params \u001b[38;5;241m=\u001b[39m {}\n\u001b[0;32m    394\u001b[0m params[\u001b[38;5;124m\"\u001b[39m\u001b[38;5;124mid\u001b[39m\u001b[38;5;124m\"\u001b[39m] \u001b[38;5;241m=\u001b[39m \u001b[38;5;28mself\u001b[39m\u001b[38;5;241m.\u001b[39m_id\n\u001b[1;32m--> 395\u001b[0m \u001b[38;5;28;01mreturn\u001b[39;00m \u001b[38;5;28mself\u001b[39m\u001b[38;5;241m.\u001b[39m_parent\u001b[38;5;241m.\u001b[39mexecute(command, params)\n",
      "File \u001b[1;32mC:\\AnAconda3\\Lib\\site-packages\\selenium\\webdriver\\remote\\webdriver.py:352\u001b[0m, in \u001b[0;36mWebDriver.execute\u001b[1;34m(self, driver_command, params)\u001b[0m\n\u001b[0;32m    349\u001b[0m     \u001b[38;5;28;01melif\u001b[39;00m \u001b[38;5;124m\"\u001b[39m\u001b[38;5;124msessionId\u001b[39m\u001b[38;5;124m\"\u001b[39m \u001b[38;5;129;01mnot\u001b[39;00m \u001b[38;5;129;01min\u001b[39;00m params:\n\u001b[0;32m    350\u001b[0m         params[\u001b[38;5;124m\"\u001b[39m\u001b[38;5;124msessionId\u001b[39m\u001b[38;5;124m\"\u001b[39m] \u001b[38;5;241m=\u001b[39m \u001b[38;5;28mself\u001b[39m\u001b[38;5;241m.\u001b[39msession_id\n\u001b[1;32m--> 352\u001b[0m response \u001b[38;5;241m=\u001b[39m \u001b[38;5;28mself\u001b[39m\u001b[38;5;241m.\u001b[39mcommand_executor\u001b[38;5;241m.\u001b[39mexecute(driver_command, params)\n\u001b[0;32m    353\u001b[0m \u001b[38;5;28;01mif\u001b[39;00m response:\n\u001b[0;32m    354\u001b[0m     \u001b[38;5;28mself\u001b[39m\u001b[38;5;241m.\u001b[39merror_handler\u001b[38;5;241m.\u001b[39mcheck_response(response)\n",
      "File \u001b[1;32mC:\\AnAconda3\\Lib\\site-packages\\selenium\\webdriver\\remote\\remote_connection.py:306\u001b[0m, in \u001b[0;36mRemoteConnection.execute\u001b[1;34m(self, command, params)\u001b[0m\n\u001b[0;32m    304\u001b[0m trimmed \u001b[38;5;241m=\u001b[39m \u001b[38;5;28mself\u001b[39m\u001b[38;5;241m.\u001b[39m_trim_large_entries(params)\n\u001b[0;32m    305\u001b[0m LOGGER\u001b[38;5;241m.\u001b[39mdebug(\u001b[38;5;124m\"\u001b[39m\u001b[38;5;132;01m%s\u001b[39;00m\u001b[38;5;124m \u001b[39m\u001b[38;5;132;01m%s\u001b[39;00m\u001b[38;5;124m \u001b[39m\u001b[38;5;132;01m%s\u001b[39;00m\u001b[38;5;124m\"\u001b[39m, command_info[\u001b[38;5;241m0\u001b[39m], url, \u001b[38;5;28mstr\u001b[39m(trimmed))\n\u001b[1;32m--> 306\u001b[0m \u001b[38;5;28;01mreturn\u001b[39;00m \u001b[38;5;28mself\u001b[39m\u001b[38;5;241m.\u001b[39m_request(command_info[\u001b[38;5;241m0\u001b[39m], url, body\u001b[38;5;241m=\u001b[39mdata)\n",
      "File \u001b[1;32mC:\\AnAconda3\\Lib\\site-packages\\selenium\\webdriver\\remote\\remote_connection.py:326\u001b[0m, in \u001b[0;36mRemoteConnection._request\u001b[1;34m(self, method, url, body)\u001b[0m\n\u001b[0;32m    323\u001b[0m     body \u001b[38;5;241m=\u001b[39m \u001b[38;5;28;01mNone\u001b[39;00m\n\u001b[0;32m    325\u001b[0m \u001b[38;5;28;01mif\u001b[39;00m \u001b[38;5;28mself\u001b[39m\u001b[38;5;241m.\u001b[39mkeep_alive:\n\u001b[1;32m--> 326\u001b[0m     response \u001b[38;5;241m=\u001b[39m \u001b[38;5;28mself\u001b[39m\u001b[38;5;241m.\u001b[39m_conn\u001b[38;5;241m.\u001b[39mrequest(method, url, body\u001b[38;5;241m=\u001b[39mbody, headers\u001b[38;5;241m=\u001b[39mheaders)\n\u001b[0;32m    327\u001b[0m     statuscode \u001b[38;5;241m=\u001b[39m response\u001b[38;5;241m.\u001b[39mstatus\n\u001b[0;32m    328\u001b[0m \u001b[38;5;28;01melse\u001b[39;00m:\n",
      "File \u001b[1;32mC:\\AnAconda3\\Lib\\site-packages\\urllib3\\_request_methods.py:144\u001b[0m, in \u001b[0;36mRequestMethods.request\u001b[1;34m(self, method, url, body, fields, headers, json, **urlopen_kw)\u001b[0m\n\u001b[0;32m    136\u001b[0m     \u001b[38;5;28;01mreturn\u001b[39;00m \u001b[38;5;28mself\u001b[39m\u001b[38;5;241m.\u001b[39mrequest_encode_url(\n\u001b[0;32m    137\u001b[0m         method,\n\u001b[0;32m    138\u001b[0m         url,\n\u001b[1;32m   (...)\u001b[0m\n\u001b[0;32m    141\u001b[0m         \u001b[38;5;241m*\u001b[39m\u001b[38;5;241m*\u001b[39murlopen_kw,\n\u001b[0;32m    142\u001b[0m     )\n\u001b[0;32m    143\u001b[0m \u001b[38;5;28;01melse\u001b[39;00m:\n\u001b[1;32m--> 144\u001b[0m     \u001b[38;5;28;01mreturn\u001b[39;00m \u001b[38;5;28mself\u001b[39m\u001b[38;5;241m.\u001b[39mrequest_encode_body(\n\u001b[0;32m    145\u001b[0m         method, url, fields\u001b[38;5;241m=\u001b[39mfields, headers\u001b[38;5;241m=\u001b[39mheaders, \u001b[38;5;241m*\u001b[39m\u001b[38;5;241m*\u001b[39murlopen_kw\n\u001b[0;32m    146\u001b[0m     )\n",
      "File \u001b[1;32mC:\\AnAconda3\\Lib\\site-packages\\urllib3\\_request_methods.py:279\u001b[0m, in \u001b[0;36mRequestMethods.request_encode_body\u001b[1;34m(self, method, url, fields, headers, encode_multipart, multipart_boundary, **urlopen_kw)\u001b[0m\n\u001b[0;32m    275\u001b[0m     extra_kw[\u001b[38;5;124m\"\u001b[39m\u001b[38;5;124mheaders\u001b[39m\u001b[38;5;124m\"\u001b[39m]\u001b[38;5;241m.\u001b[39msetdefault(\u001b[38;5;124m\"\u001b[39m\u001b[38;5;124mContent-Type\u001b[39m\u001b[38;5;124m\"\u001b[39m, content_type)\n\u001b[0;32m    277\u001b[0m extra_kw\u001b[38;5;241m.\u001b[39mupdate(urlopen_kw)\n\u001b[1;32m--> 279\u001b[0m \u001b[38;5;28;01mreturn\u001b[39;00m \u001b[38;5;28mself\u001b[39m\u001b[38;5;241m.\u001b[39murlopen(method, url, \u001b[38;5;241m*\u001b[39m\u001b[38;5;241m*\u001b[39mextra_kw)\n",
      "File \u001b[1;32mC:\\AnAconda3\\Lib\\site-packages\\urllib3\\poolmanager.py:443\u001b[0m, in \u001b[0;36mPoolManager.urlopen\u001b[1;34m(self, method, url, redirect, **kw)\u001b[0m\n\u001b[0;32m    441\u001b[0m     response \u001b[38;5;241m=\u001b[39m conn\u001b[38;5;241m.\u001b[39murlopen(method, url, \u001b[38;5;241m*\u001b[39m\u001b[38;5;241m*\u001b[39mkw)\n\u001b[0;32m    442\u001b[0m \u001b[38;5;28;01melse\u001b[39;00m:\n\u001b[1;32m--> 443\u001b[0m     response \u001b[38;5;241m=\u001b[39m conn\u001b[38;5;241m.\u001b[39murlopen(method, u\u001b[38;5;241m.\u001b[39mrequest_uri, \u001b[38;5;241m*\u001b[39m\u001b[38;5;241m*\u001b[39mkw)\n\u001b[0;32m    445\u001b[0m redirect_location \u001b[38;5;241m=\u001b[39m redirect \u001b[38;5;129;01mand\u001b[39;00m response\u001b[38;5;241m.\u001b[39mget_redirect_location()\n\u001b[0;32m    446\u001b[0m \u001b[38;5;28;01mif\u001b[39;00m \u001b[38;5;129;01mnot\u001b[39;00m redirect_location:\n",
      "File \u001b[1;32mC:\\AnAconda3\\Lib\\site-packages\\urllib3\\connectionpool.py:789\u001b[0m, in \u001b[0;36mHTTPConnectionPool.urlopen\u001b[1;34m(self, method, url, body, headers, retries, redirect, assert_same_host, timeout, pool_timeout, release_conn, chunked, body_pos, preload_content, decode_content, **response_kw)\u001b[0m\n\u001b[0;32m    786\u001b[0m response_conn \u001b[38;5;241m=\u001b[39m conn \u001b[38;5;28;01mif\u001b[39;00m \u001b[38;5;129;01mnot\u001b[39;00m release_conn \u001b[38;5;28;01melse\u001b[39;00m \u001b[38;5;28;01mNone\u001b[39;00m\n\u001b[0;32m    788\u001b[0m \u001b[38;5;66;03m# Make the request on the HTTPConnection object\u001b[39;00m\n\u001b[1;32m--> 789\u001b[0m response \u001b[38;5;241m=\u001b[39m \u001b[38;5;28mself\u001b[39m\u001b[38;5;241m.\u001b[39m_make_request(\n\u001b[0;32m    790\u001b[0m     conn,\n\u001b[0;32m    791\u001b[0m     method,\n\u001b[0;32m    792\u001b[0m     url,\n\u001b[0;32m    793\u001b[0m     timeout\u001b[38;5;241m=\u001b[39mtimeout_obj,\n\u001b[0;32m    794\u001b[0m     body\u001b[38;5;241m=\u001b[39mbody,\n\u001b[0;32m    795\u001b[0m     headers\u001b[38;5;241m=\u001b[39mheaders,\n\u001b[0;32m    796\u001b[0m     chunked\u001b[38;5;241m=\u001b[39mchunked,\n\u001b[0;32m    797\u001b[0m     retries\u001b[38;5;241m=\u001b[39mretries,\n\u001b[0;32m    798\u001b[0m     response_conn\u001b[38;5;241m=\u001b[39mresponse_conn,\n\u001b[0;32m    799\u001b[0m     preload_content\u001b[38;5;241m=\u001b[39mpreload_content,\n\u001b[0;32m    800\u001b[0m     decode_content\u001b[38;5;241m=\u001b[39mdecode_content,\n\u001b[0;32m    801\u001b[0m     \u001b[38;5;241m*\u001b[39m\u001b[38;5;241m*\u001b[39mresponse_kw,\n\u001b[0;32m    802\u001b[0m )\n\u001b[0;32m    804\u001b[0m \u001b[38;5;66;03m# Everything went great!\u001b[39;00m\n\u001b[0;32m    805\u001b[0m clean_exit \u001b[38;5;241m=\u001b[39m \u001b[38;5;28;01mTrue\u001b[39;00m\n",
      "File \u001b[1;32mC:\\AnAconda3\\Lib\\site-packages\\urllib3\\connectionpool.py:536\u001b[0m, in \u001b[0;36mHTTPConnectionPool._make_request\u001b[1;34m(self, conn, method, url, body, headers, retries, timeout, chunked, response_conn, preload_content, decode_content, enforce_content_length)\u001b[0m\n\u001b[0;32m    534\u001b[0m \u001b[38;5;66;03m# Receive the response from the server\u001b[39;00m\n\u001b[0;32m    535\u001b[0m \u001b[38;5;28;01mtry\u001b[39;00m:\n\u001b[1;32m--> 536\u001b[0m     response \u001b[38;5;241m=\u001b[39m conn\u001b[38;5;241m.\u001b[39mgetresponse()\n\u001b[0;32m    537\u001b[0m \u001b[38;5;28;01mexcept\u001b[39;00m (BaseSSLError, \u001b[38;5;167;01mOSError\u001b[39;00m) \u001b[38;5;28;01mas\u001b[39;00m e:\n\u001b[0;32m    538\u001b[0m     \u001b[38;5;28mself\u001b[39m\u001b[38;5;241m.\u001b[39m_raise_timeout(err\u001b[38;5;241m=\u001b[39me, url\u001b[38;5;241m=\u001b[39murl, timeout_value\u001b[38;5;241m=\u001b[39mread_timeout)\n",
      "File \u001b[1;32mC:\\AnAconda3\\Lib\\site-packages\\urllib3\\connection.py:464\u001b[0m, in \u001b[0;36mHTTPConnection.getresponse\u001b[1;34m(self)\u001b[0m\n\u001b[0;32m    461\u001b[0m \u001b[38;5;28;01mfrom\u001b[39;00m \u001b[38;5;21;01m.\u001b[39;00m\u001b[38;5;21;01mresponse\u001b[39;00m \u001b[38;5;28;01mimport\u001b[39;00m HTTPResponse\n\u001b[0;32m    463\u001b[0m \u001b[38;5;66;03m# Get the response from http.client.HTTPConnection\u001b[39;00m\n\u001b[1;32m--> 464\u001b[0m httplib_response \u001b[38;5;241m=\u001b[39m \u001b[38;5;28msuper\u001b[39m()\u001b[38;5;241m.\u001b[39mgetresponse()\n\u001b[0;32m    466\u001b[0m \u001b[38;5;28;01mtry\u001b[39;00m:\n\u001b[0;32m    467\u001b[0m     assert_header_parsing(httplib_response\u001b[38;5;241m.\u001b[39mmsg)\n",
      "File \u001b[1;32mC:\\AnAconda3\\Lib\\http\\client.py:1428\u001b[0m, in \u001b[0;36mHTTPConnection.getresponse\u001b[1;34m(self)\u001b[0m\n\u001b[0;32m   1426\u001b[0m \u001b[38;5;28;01mtry\u001b[39;00m:\n\u001b[0;32m   1427\u001b[0m     \u001b[38;5;28;01mtry\u001b[39;00m:\n\u001b[1;32m-> 1428\u001b[0m         response\u001b[38;5;241m.\u001b[39mbegin()\n\u001b[0;32m   1429\u001b[0m     \u001b[38;5;28;01mexcept\u001b[39;00m \u001b[38;5;167;01mConnectionError\u001b[39;00m:\n\u001b[0;32m   1430\u001b[0m         \u001b[38;5;28mself\u001b[39m\u001b[38;5;241m.\u001b[39mclose()\n",
      "File \u001b[1;32mC:\\AnAconda3\\Lib\\http\\client.py:331\u001b[0m, in \u001b[0;36mHTTPResponse.begin\u001b[1;34m(self)\u001b[0m\n\u001b[0;32m    329\u001b[0m \u001b[38;5;66;03m# read until we get a non-100 response\u001b[39;00m\n\u001b[0;32m    330\u001b[0m \u001b[38;5;28;01mwhile\u001b[39;00m \u001b[38;5;28;01mTrue\u001b[39;00m:\n\u001b[1;32m--> 331\u001b[0m     version, status, reason \u001b[38;5;241m=\u001b[39m \u001b[38;5;28mself\u001b[39m\u001b[38;5;241m.\u001b[39m_read_status()\n\u001b[0;32m    332\u001b[0m     \u001b[38;5;28;01mif\u001b[39;00m status \u001b[38;5;241m!=\u001b[39m CONTINUE:\n\u001b[0;32m    333\u001b[0m         \u001b[38;5;28;01mbreak\u001b[39;00m\n",
      "File \u001b[1;32mC:\\AnAconda3\\Lib\\http\\client.py:292\u001b[0m, in \u001b[0;36mHTTPResponse._read_status\u001b[1;34m(self)\u001b[0m\n\u001b[0;32m    291\u001b[0m \u001b[38;5;28;01mdef\u001b[39;00m \u001b[38;5;21m_read_status\u001b[39m(\u001b[38;5;28mself\u001b[39m):\n\u001b[1;32m--> 292\u001b[0m     line \u001b[38;5;241m=\u001b[39m \u001b[38;5;28mstr\u001b[39m(\u001b[38;5;28mself\u001b[39m\u001b[38;5;241m.\u001b[39mfp\u001b[38;5;241m.\u001b[39mreadline(_MAXLINE \u001b[38;5;241m+\u001b[39m \u001b[38;5;241m1\u001b[39m), \u001b[38;5;124m\"\u001b[39m\u001b[38;5;124miso-8859-1\u001b[39m\u001b[38;5;124m\"\u001b[39m)\n\u001b[0;32m    293\u001b[0m     \u001b[38;5;28;01mif\u001b[39;00m \u001b[38;5;28mlen\u001b[39m(line) \u001b[38;5;241m>\u001b[39m _MAXLINE:\n\u001b[0;32m    294\u001b[0m         \u001b[38;5;28;01mraise\u001b[39;00m LineTooLong(\u001b[38;5;124m\"\u001b[39m\u001b[38;5;124mstatus line\u001b[39m\u001b[38;5;124m\"\u001b[39m)\n",
      "File \u001b[1;32mC:\\AnAconda3\\Lib\\socket.py:708\u001b[0m, in \u001b[0;36mSocketIO.readinto\u001b[1;34m(self, b)\u001b[0m\n\u001b[0;32m    706\u001b[0m \u001b[38;5;28;01mwhile\u001b[39;00m \u001b[38;5;28;01mTrue\u001b[39;00m:\n\u001b[0;32m    707\u001b[0m     \u001b[38;5;28;01mtry\u001b[39;00m:\n\u001b[1;32m--> 708\u001b[0m         \u001b[38;5;28;01mreturn\u001b[39;00m \u001b[38;5;28mself\u001b[39m\u001b[38;5;241m.\u001b[39m_sock\u001b[38;5;241m.\u001b[39mrecv_into(b)\n\u001b[0;32m    709\u001b[0m     \u001b[38;5;28;01mexcept\u001b[39;00m timeout:\n\u001b[0;32m    710\u001b[0m         \u001b[38;5;28mself\u001b[39m\u001b[38;5;241m.\u001b[39m_timeout_occurred \u001b[38;5;241m=\u001b[39m \u001b[38;5;28;01mTrue\u001b[39;00m\n",
      "\u001b[1;31mKeyboardInterrupt\u001b[0m: "
     ]
    }
   ],
   "source": [
    "if(len(timestamp_csv)!=options_list):\n",
    "    first_search()\n",
    "else:\n",
    "    update_database()"
   ]
  },
  {
   "cell_type": "code",
   "execution_count": 370,
   "id": "26d10c1e-1116-4c26-a7ae-979a4f5d0c39",
   "metadata": {},
   "outputs": [],
   "source": [
    "def first_search():\n",
    "    timestamps = pd.DataFrame(columns=['Code', 'Date'])\n",
    "    base_url =\"https://www.mse.mk/mk/stats/symbolhistory/{}\"\n",
    "    opts_test = options_list[:2]\n",
    "    for opt in options_list:\n",
    "        url_opt = base_url.format(opt)\n",
    "        browser.get(url_opt)\n",
    "        year = 2014\n",
    "        now = pd.Timestamp.now()\n",
    "        mntDayFrom=f\"{now.day}.{now.month}.\"\n",
    "        mntDayTo = mntDayTo = f\"{now.day - 1}.{now.month}.\" if now.day > 1 else f\"{(now.day - 1 + 30) % 30}.{(now.month - 1) % 12}.\"\n",
    "        final_table_for_option = []\n",
    "        for i in range(0,10):\n",
    "            browser.get(url_opt)\n",
    "            code = Select(browser.find_element(By.CSS_SELECTOR,\"#Code\"))\n",
    "            btn =browser.find_element(By.CSS_SELECTOR,\"#report-filter-container > ul > li.container-end > input\")\n",
    "            from_date = browser.find_element(By.CSS_SELECTOR,\"#FromDate\")\n",
    "            to_date = browser.find_element(By.CSS_SELECTOR,\"#ToDate\")\n",
    "            from_date.clear()\n",
    "            from_date.send_keys(mntDayFrom + str(year))\n",
    "            to_date.clear()\n",
    "            to_date.send_keys(mntDayTo + str(year + 1))\n",
    "            code.select_by_value(opt)\n",
    "            btn.click()\n",
    "            \n",
    "            resp = requests.get(url_opt)\n",
    "            soup_i = bs(browser.page_source,\"html.parser\")      \n",
    "            opt_table_rows = soup_i.select(\"#resultsTable > tbody > tr\")\n",
    "            opt_table_rows = opt_table_rows[::-1]\n",
    "            for row in opt_table_rows:\n",
    "                row_cells = row.select(\"td\")\n",
    "                row_cells_text = []\n",
    "                for cell in row_cells:\n",
    "                    row_cells_text.append(cell.text)\n",
    "                date= row_cells[0].text\n",
    "                month= date[3:5]\n",
    "                year_str = date[6:]\n",
    "                year_str=\"20\"+year_str[-2:]\n",
    "                # print(row.find_element(By.CSS_SELECTOR, \"td:nth-child(2)\").text)\n",
    "                dic ={\n",
    "                    \"Date\": date,\n",
    "                    \"Year\": year_str,\n",
    "                    \"Month\": month,\n",
    "                    \"Price for last transaction\": row_cells[1].text,\n",
    "                    \"Maximum\": row_cells[2].text,\n",
    "                    \"Minimum\": row_cells[3].text,\n",
    "                    \"Average price\": row_cells[4].text,\n",
    "                    \"%prom\": row_cells[5].text,\n",
    "                    \"Quantity\": row_cells[6].text,\n",
    "                    \"Traffic BEST mkd\": row_cells[7].text,\n",
    "                    \"Total traffic\": row_cells[8].text\n",
    "                }\n",
    "                final_table_for_option.append(dic)\n",
    "            year= year+1\n",
    "        df_i = pd.DataFrame(final_table_for_option)\n",
    "        df_i.to_csv(opt+\".csv\", encoding=\"utf-8-sig\", index=False)\n",
    "        tmst_dict = {\n",
    "            \"Code\" : opt,\n",
    "            \"Date\": pd.Timestamp.now().date()\n",
    "        }\n",
    "        print(tmst_dict)\n",
    "        timestamps = timestamps._append(tmst_dict, ignore_index=True)\n",
    "        print(opt)\n",
    "    update_timestamps(timestamps)"
   ]
  },
  {
   "cell_type": "code",
   "execution_count": 360,
   "id": "e03a17c3-ddcc-41a2-8c91-95a8a7ab5513",
   "metadata": {},
   "outputs": [],
   "source": [
    "def update_timestamps(timest):\n",
    "    try:\n",
    "        timestamp_csv = pd.read_csv(\"timestamps/timestamps.csv\")\n",
    "        print(\"Successfully loaded existing CSV.\")\n",
    "    except FileNotFoundError:\n",
    "        print(\"CSV file not found, creating new DataFrame.\")\n",
    "        timestamp_csv = pd.DataFrame(columns=['Code', 'Date'])\n",
    "        \n",
    "    timestamp_csv['Date'] = pd.to_datetime(timestamp_csv['Date'], errors='coerce')\n",
    "    timest['Date'] = pd.to_datetime(timest['Date'], errors='coerce')\n",
    "    \n",
    "    timest = timest.set_index(['Code', 'Date'])\n",
    "    timestamp_csv = timestamp_csv.set_index(['Code', 'Date'])\n",
    "    \n",
    "    with warnings.catch_warnings():\n",
    "        warnings.simplefilter(\"ignore\", category=UserWarning)\n",
    "        m = timestamp_csv.combine_first(timest)\n",
    "    \n",
    "    m.reset_index(inplace=True)\n",
    "    m = m.drop_duplicates(subset=['Code'], keep='first')\n",
    "    \n",
    "    m.to_csv(\"timestamps/timestamps.csv\", index=False)\n",
    "    print(\"Updated CSV saved successfully.\")\n"
   ]
  },
  {
   "cell_type": "code",
   "execution_count": 366,
   "id": "0a6fe5bd-51b8-402c-b4c7-a999891b60f6",
   "metadata": {},
   "outputs": [],
   "source": [
    "def update_database():\n",
    "    try:\n",
    "        timestamp_csv = pd.read_csv(\"timestamps/timestamps.csv\")\n",
    "        timestamp_csv['Date'] = pd.to_datetime(timestamp_csv['Date'])\n",
    "    except FileNotFoundError:\n",
    "        print(\"CSV file not found. Make sure the file exists and try again.\")\n",
    "        return\n",
    "    \n",
    "    base_url = \"https://www.mse.mk/mk/stats/symbolhistory/{}\"\n",
    "    now = pd.Timestamp.now()\n",
    "    new_data = []\n",
    "\n",
    "    for _, row in timestamp_csv.iterrows():\n",
    "        opt = row['Code']\n",
    "        last_date = row['Date']\n",
    "        url_opt = base_url.format(opt)\n",
    "        from_date_str = last_date.strftime(\"%d.%m.%Y\")\n",
    "        to_date_str = now.strftime(\"%d.%m.%Y\")\n",
    "\n",
    "        browser.get(url_opt)\n",
    "        code = Select(browser.find_element(By.CSS_SELECTOR, \"#Code\"))\n",
    "        btn = browser.find_element(By.CSS_SELECTOR, \"#report-filter-container > ul > li.container-end > input\")\n",
    "        from_date = browser.find_element(By.CSS_SELECTOR, \"#FromDate\")\n",
    "        to_date = browser.find_element(By.CSS_SELECTOR, \"#ToDate\")\n",
    "        from_date.clear()\n",
    "        from_date.send_keys(from_date_str)\n",
    "        to_date.clear()\n",
    "        to_date.send_keys(to_date_str)\n",
    "        code.select_by_value(opt)\n",
    "        btn.click()\n",
    "\n",
    "        resp = requests.get(url_opt)\n",
    "        soup_i = bs(browser.page_source, \"html.parser\")\n",
    "        opt_table_rows = soup_i.select(\"#resultsTable > tbody > tr\")\n",
    "        opt_table_rows = opt_table_rows[::-1]\n",
    "        for row in opt_table_rows:\n",
    "            row_cells = row.select(\"td\")\n",
    "            row_cells_text = [cell.text for cell in row_cells]\n",
    "            dic = {\n",
    "                \"Code\": opt,\n",
    "                \"Date\": row_cells[0].text,\n",
    "                \"Year\": \"20\" + row_cells[0].text[-2:],\n",
    "                \"Month\": row_cells[0].text[3:5],\n",
    "                \"Price for last transaction\": row_cells[1].text,\n",
    "                \"Maximum\": row_cells[2].text,\n",
    "                \"Minimum\": row_cells[3].text,\n",
    "                \"Average price\": row_cells[4].text,\n",
    "                \"%prom\": row_cells[5].text,\n",
    "                \"Quantity\": row_cells[6].text,\n",
    "                \"Traffic BEST mkd\": row_cells[7].text,\n",
    "                \"Total traffic\": row_cells[8].text\n",
    "            }\n",
    "            new_data.append(dic)\n",
    "\n",
    "    if not new_data:\n",
    "        print(\"No new data found.\")\n",
    "        return\n",
    "\n",
    "    new_df = pd.DataFrame(new_data)\n",
    "    \n",
    "    for opt in options_list:\n",
    "        try:\n",
    "            existing_df = pd.read_csv(opt + \".csv\")\n",
    "            updated_df = pd.concat([existing_df, new_df[new_df['Code'] == opt]])\n",
    "        except FileNotFoundError:\n",
    "            updated_df = new_df[new_df['Code'] == opt]\n",
    "\n",
    "        updated_df.to_csv(opt + \".csv\", encoding=\"utf-8-sig\", index=False)\n",
    "\n",
    "    timestamps = pd.DataFrame(columns=['Code', 'Date'])\n",
    "    for opt in options_list:\n",
    "        tmst_dict = {\n",
    "            \"Code\": opt,\n",
    "            \"Date\": pd.Timestamp.now().date()\n",
    "        }\n",
    "        timestamps = timestamps._append(tmst_dict, ignore_index=True)\n",
    "\n",
    "    timestamps.to_csv(\"timestamps/timestamps.csv\", index=False)\n",
    "    print(\"Database updated successfully.\")\n"
   ]
  },
  {
   "cell_type": "code",
   "execution_count": null,
   "id": "77c549c3-63c9-498a-a2cf-ec81eb3822c2",
   "metadata": {},
   "outputs": [],
   "source": []
  }
 ],
 "metadata": {
  "kernelspec": {
   "display_name": "Python 3 (ipykernel)",
   "language": "python",
   "name": "python3"
  },
  "language_info": {
   "codemirror_mode": {
    "name": "ipython",
    "version": 3
   },
   "file_extension": ".py",
   "mimetype": "text/x-python",
   "name": "python",
   "nbconvert_exporter": "python",
   "pygments_lexer": "ipython3",
   "version": "3.12.4"
  }
 },
 "nbformat": 4,
 "nbformat_minor": 5
}
